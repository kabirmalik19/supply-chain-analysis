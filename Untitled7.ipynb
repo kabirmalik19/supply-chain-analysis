{
 "cells": [
  {
   "cell_type": "code",
   "execution_count": 1,
   "id": "ae4c3c18-631b-4cee-9e34-6ba4f4832d29",
   "metadata": {},
   "outputs": [],
   "source": [
    "import pandas as pd\n",
    "import numpy as np "
   ]
  },
  {
   "cell_type": "code",
   "execution_count": 2,
   "id": "2f5e98fc-798f-4b3b-822b-f006bd9cb228",
   "metadata": {},
   "outputs": [
    {
     "data": {
      "text/html": [
       "<div>\n",
       "<style scoped>\n",
       "    .dataframe tbody tr th:only-of-type {\n",
       "        vertical-align: middle;\n",
       "    }\n",
       "\n",
       "    .dataframe tbody tr th {\n",
       "        vertical-align: top;\n",
       "    }\n",
       "\n",
       "    .dataframe thead th {\n",
       "        text-align: right;\n",
       "    }\n",
       "</style>\n",
       "<table border=\"1\" class=\"dataframe\">\n",
       "  <thead>\n",
       "    <tr style=\"text-align: right;\">\n",
       "      <th></th>\n",
       "      <th>order_id</th>\n",
       "      <th>product_id</th>\n",
       "      <th>warehouse_id</th>\n",
       "      <th>quantity_ordered</th>\n",
       "      <th>order_date</th>\n",
       "      <th>expected_fulfillment_date</th>\n",
       "      <th>status</th>\n",
       "    </tr>\n",
       "  </thead>\n",
       "  <tbody>\n",
       "    <tr>\n",
       "      <th>0</th>\n",
       "      <td>O00001</td>\n",
       "      <td>P0030</td>\n",
       "      <td>W010</td>\n",
       "      <td>148</td>\n",
       "      <td>2024-08-02</td>\n",
       "      <td>2024-08-09</td>\n",
       "      <td>Cancelled</td>\n",
       "    </tr>\n",
       "    <tr>\n",
       "      <th>1</th>\n",
       "      <td>O00002</td>\n",
       "      <td>P0072</td>\n",
       "      <td>W005</td>\n",
       "      <td>817</td>\n",
       "      <td>2024-06-03</td>\n",
       "      <td>2024-06-09</td>\n",
       "      <td>Open</td>\n",
       "    </tr>\n",
       "    <tr>\n",
       "      <th>2</th>\n",
       "      <td>O00003</td>\n",
       "      <td>P0004</td>\n",
       "      <td>W002</td>\n",
       "      <td>909</td>\n",
       "      <td>2024-08-29</td>\n",
       "      <td>2024-09-03</td>\n",
       "      <td>Open</td>\n",
       "    </tr>\n",
       "    <tr>\n",
       "      <th>3</th>\n",
       "      <td>O00004</td>\n",
       "      <td>P0214</td>\n",
       "      <td>W004</td>\n",
       "      <td>165</td>\n",
       "      <td>2024-11-22</td>\n",
       "      <td>2024-11-27</td>\n",
       "      <td>Backordered</td>\n",
       "    </tr>\n",
       "    <tr>\n",
       "      <th>4</th>\n",
       "      <td>O00005</td>\n",
       "      <td>P0416</td>\n",
       "      <td>W003</td>\n",
       "      <td>865</td>\n",
       "      <td>2024-01-13</td>\n",
       "      <td>2024-01-21</td>\n",
       "      <td>Backordered</td>\n",
       "    </tr>\n",
       "  </tbody>\n",
       "</table>\n",
       "</div>"
      ],
      "text/plain": [
       "  order_id product_id warehouse_id  quantity_ordered  order_date  \\\n",
       "0   O00001      P0030         W010               148  2024-08-02   \n",
       "1   O00002      P0072         W005               817  2024-06-03   \n",
       "2   O00003      P0004         W002               909  2024-08-29   \n",
       "3   O00004      P0214         W004               165  2024-11-22   \n",
       "4   O00005      P0416         W003               865  2024-01-13   \n",
       "\n",
       "  expected_fulfillment_date       status  \n",
       "0                2024-08-09    Cancelled  \n",
       "1                2024-06-09         Open  \n",
       "2                2024-09-03         Open  \n",
       "3                2024-11-27  Backordered  \n",
       "4                2024-01-21  Backordered  "
      ]
     },
     "execution_count": 2,
     "metadata": {},
     "output_type": "execute_result"
    }
   ],
   "source": [
    "df = pd.read_csv(\"orders_final_cleaned.csv\")\n",
    "df.head()"
   ]
  },
  {
   "cell_type": "code",
   "execution_count": 3,
   "id": "a9584958-9192-4bbe-9be2-b70427da7f66",
   "metadata": {},
   "outputs": [
    {
     "data": {
      "text/plain": [
       "order_id                       0\n",
       "product_id                     0\n",
       "warehouse_id                   0\n",
       "quantity_ordered               0\n",
       "order_date                     0\n",
       "expected_fulfillment_date      0\n",
       "status                       160\n",
       "dtype: int64"
      ]
     },
     "execution_count": 3,
     "metadata": {},
     "output_type": "execute_result"
    }
   ],
   "source": [
    "df.isnull().sum()"
   ]
  },
  {
   "cell_type": "code",
   "execution_count": 4,
   "id": "b26f37b0-9288-4c46-be60-3798639af2c8",
   "metadata": {},
   "outputs": [
    {
     "data": {
      "text/plain": [
       "Index(['Backordered', 'Fulfilled', 'Cancelled', 'Open'], dtype='object', name='status')"
      ]
     },
     "execution_count": 4,
     "metadata": {},
     "output_type": "execute_result"
    }
   ],
   "source": [
    "status_filled_null =df['status'].value_counts().index\n",
    "status_filled_null"
   ]
  },
  {
   "cell_type": "code",
   "execution_count": 5,
   "id": "fbdbe5eb-e595-42e5-8146-4cc0c3832c29",
   "metadata": {},
   "outputs": [],
   "source": [
    "status_fillna_values = np.random.choice(status_filled_null,size=160)"
   ]
  },
  {
   "cell_type": "code",
   "execution_count": 6,
   "id": "0a6918c4-3d77-49aa-a7f5-caa2790d4ea4",
   "metadata": {},
   "outputs": [],
   "source": [
    "status_null_index = df[df['status'].isnull()].index"
   ]
  },
  {
   "cell_type": "code",
   "execution_count": 7,
   "id": "c0aef8db-7976-4a79-ac7c-aea68ebc86fc",
   "metadata": {},
   "outputs": [],
   "source": [
    "df.loc[status_null_index,'status']= status_fillna_values"
   ]
  },
  {
   "cell_type": "code",
   "execution_count": 8,
   "id": "a90e68cb-a320-49f7-b202-dd2c2a26dc6e",
   "metadata": {},
   "outputs": [
    {
     "data": {
      "text/plain": [
       "0"
      ]
     },
     "execution_count": 8,
     "metadata": {},
     "output_type": "execute_result"
    }
   ],
   "source": [
    "df['status'].isnull().sum()"
   ]
  },
  {
   "cell_type": "code",
   "execution_count": 9,
   "id": "7936069c-f4fd-459e-948e-40fa072a0598",
   "metadata": {},
   "outputs": [],
   "source": [
    "df.to_csv(\"orders_cleaned_final.csv\", index=False)\n"
   ]
  },
  {
   "cell_type": "code",
   "execution_count": 10,
   "id": "56a0a5b3-68e4-4a4d-9a4c-6a3315a90330",
   "metadata": {},
   "outputs": [
    {
     "data": {
      "text/html": [
       "<a href='orders_cleaned_final.csv' target='_blank'>orders_cleaned_final.csv</a><br>"
      ],
      "text/plain": [
       "C:\\Users\\Admin\\orders_cleaned_final.csv"
      ]
     },
     "execution_count": 10,
     "metadata": {},
     "output_type": "execute_result"
    }
   ],
   "source": [
    "from IPython.display import FileLink\n",
    "\n",
    "FileLink(\"orders_cleaned_final.csv\")\n"
   ]
  },
  {
   "cell_type": "code",
   "execution_count": 11,
   "id": "6c6a8935-f83e-4e8d-91f5-4bd0847e0015",
   "metadata": {},
   "outputs": [
    {
     "data": {
      "text/html": [
       "<div>\n",
       "<style scoped>\n",
       "    .dataframe tbody tr th:only-of-type {\n",
       "        vertical-align: middle;\n",
       "    }\n",
       "\n",
       "    .dataframe tbody tr th {\n",
       "        vertical-align: top;\n",
       "    }\n",
       "\n",
       "    .dataframe thead th {\n",
       "        text-align: right;\n",
       "    }\n",
       "</style>\n",
       "<table border=\"1\" class=\"dataframe\">\n",
       "  <thead>\n",
       "    <tr style=\"text-align: right;\">\n",
       "      <th></th>\n",
       "      <th>shipment_id</th>\n",
       "      <th>supplier_id</th>\n",
       "      <th>product_id</th>\n",
       "      <th>warehouse_id</th>\n",
       "      <th>quantity</th>\n",
       "      <th>shipment_date</th>\n",
       "      <th>expected_delivery_date</th>\n",
       "      <th>delivery_status</th>\n",
       "    </tr>\n",
       "  </thead>\n",
       "  <tbody>\n",
       "    <tr>\n",
       "      <th>0</th>\n",
       "      <td>SH00001</td>\n",
       "      <td>S0095</td>\n",
       "      <td>P0454</td>\n",
       "      <td>W003</td>\n",
       "      <td>676</td>\n",
       "      <td>2024-09-01</td>\n",
       "      <td>2024-09-03</td>\n",
       "      <td>NaN</td>\n",
       "    </tr>\n",
       "    <tr>\n",
       "      <th>1</th>\n",
       "      <td>SH00002</td>\n",
       "      <td>S0012</td>\n",
       "      <td>P0442</td>\n",
       "      <td>W003</td>\n",
       "      <td>792</td>\n",
       "      <td>2024-02-10</td>\n",
       "      <td>2024-02-15</td>\n",
       "      <td>NaN</td>\n",
       "    </tr>\n",
       "    <tr>\n",
       "      <th>2</th>\n",
       "      <td>SH00003</td>\n",
       "      <td>S0006</td>\n",
       "      <td>P0468</td>\n",
       "      <td>W007</td>\n",
       "      <td>351</td>\n",
       "      <td>2024-06-07</td>\n",
       "      <td>2024-06-12</td>\n",
       "      <td>NaN</td>\n",
       "    </tr>\n",
       "    <tr>\n",
       "      <th>3</th>\n",
       "      <td>SH00004</td>\n",
       "      <td>S0034</td>\n",
       "      <td>P0255</td>\n",
       "      <td>W005</td>\n",
       "      <td>219</td>\n",
       "      <td>2024-12-08</td>\n",
       "      <td>2024-12-12</td>\n",
       "      <td>In Transit</td>\n",
       "    </tr>\n",
       "    <tr>\n",
       "      <th>4</th>\n",
       "      <td>SH00005</td>\n",
       "      <td>S0084</td>\n",
       "      <td>P0148</td>\n",
       "      <td>W009</td>\n",
       "      <td>316</td>\n",
       "      <td>2024-07-01</td>\n",
       "      <td>2024-07-05</td>\n",
       "      <td>NaN</td>\n",
       "    </tr>\n",
       "  </tbody>\n",
       "</table>\n",
       "</div>"
      ],
      "text/plain": [
       "  shipment_id supplier_id product_id warehouse_id  quantity shipment_date  \\\n",
       "0     SH00001       S0095      P0454         W003       676    2024-09-01   \n",
       "1     SH00002       S0012      P0442         W003       792    2024-02-10   \n",
       "2     SH00003       S0006      P0468         W007       351    2024-06-07   \n",
       "3     SH00004       S0034      P0255         W005       219    2024-12-08   \n",
       "4     SH00005       S0084      P0148         W009       316    2024-07-01   \n",
       "\n",
       "  expected_delivery_date delivery_status  \n",
       "0             2024-09-03             NaN  \n",
       "1             2024-02-15             NaN  \n",
       "2             2024-06-12             NaN  \n",
       "3             2024-12-12      In Transit  \n",
       "4             2024-07-05             NaN  "
      ]
     },
     "execution_count": 11,
     "metadata": {},
     "output_type": "execute_result"
    }
   ],
   "source": [
    "df1 = pd.read_csv(\"shipments_final_cleaned.csv\")\n",
    "df1.head()"
   ]
  },
  {
   "cell_type": "code",
   "execution_count": 12,
   "id": "178b0ca2-2f09-4fdc-aa1a-689cb0a6bb02",
   "metadata": {},
   "outputs": [
    {
     "data": {
      "text/plain": [
       "shipment_id                 0\n",
       "supplier_id                 0\n",
       "product_id                  0\n",
       "warehouse_id                0\n",
       "quantity                    0\n",
       "shipment_date               0\n",
       "expected_delivery_date      0\n",
       "delivery_status           240\n",
       "dtype: int64"
      ]
     },
     "execution_count": 12,
     "metadata": {},
     "output_type": "execute_result"
    }
   ],
   "source": [
    "df1.isnull().sum()"
   ]
  },
  {
   "cell_type": "code",
   "execution_count": 13,
   "id": "ba3bbc67-f457-446d-9d7b-9da18847bda9",
   "metadata": {},
   "outputs": [
    {
     "data": {
      "text/plain": [
       "Index(['Pending', 'In Transit', 'Delivered', 'Delayed'], dtype='object', name='delivery_status')"
      ]
     },
     "execution_count": 13,
     "metadata": {},
     "output_type": "execute_result"
    }
   ],
   "source": [
    "delivery_status_filled_null = df1['delivery_status'].value_counts().index\n",
    "delivery_status_filled_null"
   ]
  },
  {
   "cell_type": "code",
   "execution_count": 14,
   "id": "f1cfb532-0aec-4658-9b37-8cd69ae90ccf",
   "metadata": {},
   "outputs": [],
   "source": [
    "delivery_status_fillna_values  = np.random.choice(delivery_status_filled_null,size = 240)\n"
   ]
  },
  {
   "cell_type": "code",
   "execution_count": 15,
   "id": "7997dd6d-023c-43f1-871e-e4dd4e296a37",
   "metadata": {},
   "outputs": [],
   "source": [
    "delivery_status_null_index = df1[df1['delivery_status'].isnull()].index"
   ]
  },
  {
   "cell_type": "code",
   "execution_count": 16,
   "id": "e43dfec3-bab7-47eb-bdad-6656e17edfd6",
   "metadata": {},
   "outputs": [],
   "source": [
    "df1.loc[delivery_status_null_index,'delivery_status']= delivery_status_fillna_values"
   ]
  },
  {
   "cell_type": "code",
   "execution_count": 17,
   "id": "ac0e991b-cd90-45c8-94cc-a32ac21f3987",
   "metadata": {},
   "outputs": [
    {
     "data": {
      "text/plain": [
       "shipment_id               0\n",
       "supplier_id               0\n",
       "product_id                0\n",
       "warehouse_id              0\n",
       "quantity                  0\n",
       "shipment_date             0\n",
       "expected_delivery_date    0\n",
       "delivery_status           0\n",
       "dtype: int64"
      ]
     },
     "execution_count": 17,
     "metadata": {},
     "output_type": "execute_result"
    }
   ],
   "source": [
    "df1.isnull().sum()"
   ]
  },
  {
   "cell_type": "code",
   "execution_count": 18,
   "id": "b7105700-c33a-4180-9daf-218c6bf5f9e2",
   "metadata": {},
   "outputs": [],
   "source": [
    "df1.to_csv(\"shipments_cleaned_final.csv\", index=False)\n"
   ]
  },
  {
   "cell_type": "code",
   "execution_count": 19,
   "id": "f086ba7a-972c-46ed-a9d4-ebf590078b55",
   "metadata": {},
   "outputs": [
    {
     "data": {
      "text/html": [
       "<a href='shipments_cleaned_final.csv' target='_blank'>shipments_cleaned_final.csv</a><br>"
      ],
      "text/plain": [
       "C:\\Users\\Admin\\shipments_cleaned_final.csv"
      ]
     },
     "execution_count": 19,
     "metadata": {},
     "output_type": "execute_result"
    }
   ],
   "source": [
    "from IPython.display import FileLink\n",
    "\n",
    "FileLink(\"shipments_cleaned_final.csv\")"
   ]
  },
  {
   "cell_type": "code",
   "execution_count": 20,
   "id": "cb7bc1a9-6129-4129-97ff-437c372dd0ec",
   "metadata": {},
   "outputs": [
    {
     "data": {
      "text/html": [
       "<div>\n",
       "<style scoped>\n",
       "    .dataframe tbody tr th:only-of-type {\n",
       "        vertical-align: middle;\n",
       "    }\n",
       "\n",
       "    .dataframe tbody tr th {\n",
       "        vertical-align: top;\n",
       "    }\n",
       "\n",
       "    .dataframe thead th {\n",
       "        text-align: right;\n",
       "    }\n",
       "</style>\n",
       "<table border=\"1\" class=\"dataframe\">\n",
       "  <thead>\n",
       "    <tr style=\"text-align: right;\">\n",
       "      <th></th>\n",
       "      <th>product_id</th>\n",
       "      <th>name</th>\n",
       "      <th>category</th>\n",
       "      <th>unit_price</th>\n",
       "      <th>unit</th>\n",
       "      <th>description</th>\n",
       "      <th>total_quantity_ordered</th>\n",
       "      <th>total_quantity_shipped</th>\n",
       "      <th>total_quantity_on_hand</th>\n",
       "    </tr>\n",
       "  </thead>\n",
       "  <tbody>\n",
       "    <tr>\n",
       "      <th>0</th>\n",
       "      <td>P0001</td>\n",
       "      <td>Fuel Injector 625</td>\n",
       "      <td>Electrical Systems</td>\n",
       "      <td>795</td>\n",
       "      <td>pieces</td>\n",
       "      <td>Fuel Injector 625 - high-quality automotive part.</td>\n",
       "      <td>1715.0</td>\n",
       "      <td>2181.0</td>\n",
       "      <td>6710.0</td>\n",
       "    </tr>\n",
       "    <tr>\n",
       "      <th>1</th>\n",
       "      <td>P0002</td>\n",
       "      <td>Shock Absorber 984</td>\n",
       "      <td>Engine Parts</td>\n",
       "      <td>8022</td>\n",
       "      <td>pieces</td>\n",
       "      <td>Shock Absorber 984 - high-quality automotive p...</td>\n",
       "      <td>620.0</td>\n",
       "      <td>3301.0</td>\n",
       "      <td>14268.0</td>\n",
       "    </tr>\n",
       "    <tr>\n",
       "      <th>2</th>\n",
       "      <td>P0003</td>\n",
       "      <td>Brake Pad Set 119</td>\n",
       "      <td>Engine Parts</td>\n",
       "      <td>13042</td>\n",
       "      <td>pieces</td>\n",
       "      <td>Brake Pad Set 119 - high-quality automotive part.</td>\n",
       "      <td>1520.0</td>\n",
       "      <td>5305.0</td>\n",
       "      <td>9623.0</td>\n",
       "    </tr>\n",
       "    <tr>\n",
       "      <th>3</th>\n",
       "      <td>P0004</td>\n",
       "      <td>Shock Absorber 452</td>\n",
       "      <td>Transmission</td>\n",
       "      <td>3648</td>\n",
       "      <td>pieces</td>\n",
       "      <td>Shock Absorber 452 - high-quality automotive p...</td>\n",
       "      <td>909.0</td>\n",
       "      <td>2175.0</td>\n",
       "      <td>11070.0</td>\n",
       "    </tr>\n",
       "    <tr>\n",
       "      <th>4</th>\n",
       "      <td>P0005</td>\n",
       "      <td>Spark Plug 445</td>\n",
       "      <td>Braking System</td>\n",
       "      <td>20982</td>\n",
       "      <td>pieces</td>\n",
       "      <td>NaN</td>\n",
       "      <td>1786.0</td>\n",
       "      <td>4498.0</td>\n",
       "      <td>15970.0</td>\n",
       "    </tr>\n",
       "  </tbody>\n",
       "</table>\n",
       "</div>"
      ],
      "text/plain": [
       "  product_id                name            category  unit_price    unit  \\\n",
       "0      P0001   Fuel Injector 625  Electrical Systems         795  pieces   \n",
       "1      P0002  Shock Absorber 984        Engine Parts        8022  pieces   \n",
       "2      P0003   Brake Pad Set 119        Engine Parts       13042  pieces   \n",
       "3      P0004  Shock Absorber 452        Transmission        3648  pieces   \n",
       "4      P0005      Spark Plug 445      Braking System       20982  pieces   \n",
       "\n",
       "                                         description  total_quantity_ordered  \\\n",
       "0  Fuel Injector 625 - high-quality automotive part.                  1715.0   \n",
       "1  Shock Absorber 984 - high-quality automotive p...                   620.0   \n",
       "2  Brake Pad Set 119 - high-quality automotive part.                  1520.0   \n",
       "3  Shock Absorber 452 - high-quality automotive p...                   909.0   \n",
       "4                                                NaN                  1786.0   \n",
       "\n",
       "   total_quantity_shipped  total_quantity_on_hand  \n",
       "0                  2181.0                  6710.0  \n",
       "1                  3301.0                 14268.0  \n",
       "2                  5305.0                  9623.0  \n",
       "3                  2175.0                 11070.0  \n",
       "4                  4498.0                 15970.0  "
      ]
     },
     "execution_count": 20,
     "metadata": {},
     "output_type": "execute_result"
    }
   ],
   "source": [
    "df2 = pd.read_csv(\"products_final_cleaned.csv\")\n",
    "df2.head()"
   ]
  },
  {
   "cell_type": "code",
   "execution_count": 21,
   "id": "412df624-e7ea-443f-9502-ca2d76a4aada",
   "metadata": {},
   "outputs": [
    {
     "data": {
      "text/plain": [
       "product_id                 0\n",
       "name                       0\n",
       "category                   0\n",
       "unit_price                 0\n",
       "unit                       0\n",
       "description               40\n",
       "total_quantity_ordered     0\n",
       "total_quantity_shipped     0\n",
       "total_quantity_on_hand     0\n",
       "dtype: int64"
      ]
     },
     "execution_count": 21,
     "metadata": {},
     "output_type": "execute_result"
    }
   ],
   "source": [
    "df2.isnull().sum()"
   ]
  },
  {
   "cell_type": "code",
   "execution_count": 22,
   "id": "544b65c6-0477-4670-8bc8-ccb5e4a7aef0",
   "metadata": {},
   "outputs": [
    {
     "data": {
      "text/plain": [
       "['Shock Absorber 656 - high-quality automotive part.',\n",
       " 'Starter Motor 724 - high-quality automotive part.',\n",
       " 'Fuel Injector 170 - high-quality automotive part.',\n",
       " 'Ignition Coil 862 - high-quality automotive part.',\n",
       " 'Spark Plug 441 - high-quality automotive part.',\n",
       " 'Battery 712 - high-quality automotive part.',\n",
       " 'Brake Pad Set 143 - high-quality automotive part.',\n",
       " 'Battery 212 - high-quality automotive part.',\n",
       " 'Battery 268 - high-quality automotive part.',\n",
       " 'Shock Absorber 709 - high-quality automotive part.']"
      ]
     },
     "execution_count": 22,
     "metadata": {},
     "output_type": "execute_result"
    }
   ],
   "source": [
    "products_filled_null = ['Shock Absorber 656 - high-quality automotive part.',\n",
    "'Starter Motor 724 - high-quality automotive part.',\n",
    "'Fuel Injector 170 - high-quality automotive part.',\n",
    "'Ignition Coil 862 - high-quality automotive part.',\n",
    "'Spark Plug 441 - high-quality automotive part.',\n",
    "'Battery 712 - high-quality automotive part.',\n",
    "'Brake Pad Set 143 - high-quality automotive part.',\n",
    "'Battery 212 - high-quality automotive part.',\n",
    "'Battery 268 - high-quality automotive part.',\n",
    "'Shock Absorber 709 - high-quality automotive part.']\n",
    "products_filled_null"
   ]
  },
  {
   "cell_type": "code",
   "execution_count": 23,
   "id": "c6a2a715-2b5b-47ff-aaa0-3bef2118038f",
   "metadata": {},
   "outputs": [],
   "source": [
    "products_fillna_values  = np.random.choice(products_filled_null,size = 40)\n"
   ]
  },
  {
   "cell_type": "code",
   "execution_count": 24,
   "id": "d8c06808-ca1f-47fd-a0f6-f7c86768275f",
   "metadata": {},
   "outputs": [],
   "source": [
    "products_null_index = df2[df2['description'].isnull()].index"
   ]
  },
  {
   "cell_type": "code",
   "execution_count": 25,
   "id": "3bfc1668-7bf1-417b-bb03-efc9492715fc",
   "metadata": {},
   "outputs": [],
   "source": [
    "df2.loc[products_null_index,'description']= products_fillna_values"
   ]
  },
  {
   "cell_type": "code",
   "execution_count": 26,
   "id": "bff2fe8b-0cf5-4bc1-bd1e-f2ff11f7a00a",
   "metadata": {},
   "outputs": [
    {
     "data": {
      "text/plain": [
       "product_id                0\n",
       "name                      0\n",
       "category                  0\n",
       "unit_price                0\n",
       "unit                      0\n",
       "description               0\n",
       "total_quantity_ordered    0\n",
       "total_quantity_shipped    0\n",
       "total_quantity_on_hand    0\n",
       "dtype: int64"
      ]
     },
     "execution_count": 26,
     "metadata": {},
     "output_type": "execute_result"
    }
   ],
   "source": [
    "df2.isnull().sum()"
   ]
  },
  {
   "cell_type": "code",
   "execution_count": 27,
   "id": "0a4e8d7b-a8e7-468d-b573-e17301814fab",
   "metadata": {},
   "outputs": [],
   "source": [
    "df2.to_csv(\"products_cleaned_final.csv\", index=False)\n"
   ]
  },
  {
   "cell_type": "code",
   "execution_count": 28,
   "id": "62840cac-3114-47fe-8c2b-d7dcdd3adafb",
   "metadata": {},
   "outputs": [
    {
     "data": {
      "text/html": [
       "<a href='products_cleaned_final.csv' target='_blank'>products_cleaned_final.csv</a><br>"
      ],
      "text/plain": [
       "C:\\Users\\Admin\\products_cleaned_final.csv"
      ]
     },
     "execution_count": 28,
     "metadata": {},
     "output_type": "execute_result"
    }
   ],
   "source": [
    "from IPython.display import FileLink\n",
    "\n",
    "FileLink(\"products_cleaned_final.csv\")"
   ]
  },
  {
   "cell_type": "code",
   "execution_count": null,
   "id": "df3cf6ed-6930-4e68-87f6-0df14b73040d",
   "metadata": {},
   "outputs": [],
   "source": []
  }
 ],
 "metadata": {
  "kernelspec": {
   "display_name": "Python [conda env:base] *",
   "language": "python",
   "name": "conda-base-py"
  },
  "language_info": {
   "codemirror_mode": {
    "name": "ipython",
    "version": 3
   },
   "file_extension": ".py",
   "mimetype": "text/x-python",
   "name": "python",
   "nbconvert_exporter": "python",
   "pygments_lexer": "ipython3",
   "version": "3.12.7"
  }
 },
 "nbformat": 4,
 "nbformat_minor": 5
}
